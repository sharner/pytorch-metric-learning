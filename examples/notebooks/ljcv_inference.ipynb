{
 "cells": [
  {
   "cell_type": "markdown",
   "metadata": {
    "id": "YpGFMiKfiTuk"
   },
   "source": [
    "# PyTorch Metric Learning\n",
    "See the documentation [here](https://kevinmusgrave.github.io/pytorch-metric-learning/)"
   ]
  },
  {
   "cell_type": "markdown",
   "metadata": {
    "id": "Ix6axXiRiaal"
   },
   "source": [
    "## Install the packages"
   ]
  },
  {
   "cell_type": "code",
   "execution_count": null,
   "metadata": {
    "colab": {
     "base_uri": "https://localhost:8080/"
    },
    "id": "yhkMjfZFVyxM",
    "outputId": "1a3ae9d3-70d8-43c3-dd7e-1c9cb5b77332"
   },
   "outputs": [],
   "source": [
    "!pip install pytorch-metric-learning\n",
    "!pip install -q faiss-gpu"
   ]
  },
  {
   "cell_type": "markdown",
   "metadata": {
    "id": "arrmHAWJiffp"
   },
   "source": [
    "## Import the packages"
   ]
  },
  {
   "cell_type": "code",
   "execution_count": 10,
   "metadata": {
    "id": "u-TsIJjkVmwt"
   },
   "outputs": [],
   "source": [
    "%matplotlib inline\n",
    "import sys\n",
    "sys.path.append(\"/build/pytorch-metric-learning\")\n",
    "\n",
    "import collections\n",
    "import matplotlib.pyplot as plt\n",
    "import numpy as np\n",
    "import torch\n",
    "import torchvision\n",
    "import lj_inference as ljinf\n",
    "import lj_common_model as lj_com\n",
    "from torchvision import transforms\n",
    "import os\n",
    "import importlib"
   ]
  },
  {
   "cell_type": "code",
   "execution_count": null,
   "metadata": {},
   "outputs": [],
   "source": [
    "# use this cell if update lj_inference.py, otherwise skip\n",
    "importlib.reload(ljinf)"
   ]
  },
  {
   "cell_type": "markdown",
   "metadata": {
    "id": "TAqGqYrnihQc"
   },
   "source": [
    "## Create helper functions"
   ]
  },
  {
   "cell_type": "code",
   "execution_count": 11,
   "metadata": {
    "id": "WdUzoef_WtCa"
   },
   "outputs": [],
   "source": [
    "def print_decision(is_match):\n",
    "    if is_match:\n",
    "        print(\"Same class\")\n",
    "    else:\n",
    "        print(\"Different class\")\n",
    "\n",
    "\n",
    "mean = [0.485, 0.456, 0.406]\n",
    "std = [0.229, 0.224, 0.225]\n",
    "\n",
    "inv_normalize = transforms.Normalize(\n",
    "    mean=[-m / s for m, s in zip(mean, std)], std=[1 / s for s in std]\n",
    ")\n",
    "\n",
    "\n",
    "def imshow(img, figsize=(8, 4)):\n",
    "    img = inv_normalize(img)\n",
    "    npimg = img.numpy()\n",
    "    plt.figure(figsize=figsize)\n",
    "    plt.imshow(np.transpose(npimg, (1, 2, 0)))\n",
    "    plt.show()"
   ]
  },
  {
   "cell_type": "markdown",
   "metadata": {},
   "source": [
    "## Constants to Build Arguments String ##"
   ]
  },
  {
   "cell_type": "code",
   "execution_count": 24,
   "metadata": {},
   "outputs": [],
   "source": [
    "input_size = 320\n",
    "input_crop = 300\n",
    "best_iteration = 22\n",
    "dim = 512\n",
    "nclasses = 0 # if 0, then use train dir to figure out number classes\n",
    "data_dir = \"/layerjot/tb2/ljcv-datalake-prod/triplet_dataset/20240621/\"\n",
    "batch_size = 24\n",
    "\n",
    "base_results_dir = \"/data/ljcv-model-artifacts/pytorch-metric-learning/results/20240621\"\n",
    "model_results_dir = os.path.join(base_results_dir,\n",
    "                                 \"pymetric.effv2_m.b24.dim512.im320.m5s01\",\n",
    "                                 \"lj_saved_models\")\n",
    "\n",
    "backbone = \"tf_efficientnetv2_m\"\n",
    "embedder = \"embedder_best{}.pth\".format(best_iteration)\n",
    "trunk = \"trunk_best{}.pth\".format(best_iteration)\n",
    "eval_device = \"cuda\" # cpu or gpu ??\n",
    "base_argstring = \"--input-size {} --input-crop {}  --base-output-dir {}\".format(input_size, input_crop, model_results_dir)\n",
    "base_argstring += \" --backbone {}\".format(backbone)\n",
    "base_argstring += \" --embedder {} --trunk {} --eval-device {}\".format(embedder, trunk, eval_device)\n",
    "base_argstring += \" --batch-size {} --dim {} --output-dim {}\".format(batch_size, dim, nclasses)\n",
    "base_argstring += \" {}\".format(data_dir)\n",
    "\n",
    "argstring = base_argstring"
   ]
  },
  {
   "cell_type": "markdown",
   "metadata": {
    "id": "b176nhrwimmf"
   },
   "source": [
    "## Create the InferenceModel wrapper"
   ]
  },
  {
   "cell_type": "code",
   "execution_count": null,
   "metadata": {
    "id": "0m_bCb8-h-WV"
   },
   "outputs": [],
   "source": [
    "parser = ljinf.create_inference_parser()\n",
    "print(\"parsing {}...\".format(argstring))\n",
    "args = parser.parse_args(argstring.split())\n",
    "inference_model, dataset_val, labels_to_indices, indices_to_labels = ljinf.build_inference_model_from_cli(args)\n",
    "print(\"len labels_to_indices {}\".format(len(labels_to_indices)))\n",
    "\n",
    "# two examples\n",
    "classA_index = 1\n",
    "classB_index = 6\n",
    "classA, classB = labels_to_indices[classA_index], labels_to_indices[classB_index]"
   ]
  },
  {
   "cell_type": "markdown",
   "metadata": {
    "id": "WvflnxyY97a1"
   },
   "source": [
    "## Get nearest neighbors of a query"
   ]
  },
  {
   "cell_type": "code",
   "execution_count": null,
   "metadata": {
    "colab": {
     "base_uri": "https://localhost:8080/",
     "height": 881
    },
    "id": "jf48dl2OBV74",
    "outputId": "19a94b42-6c57-4c80-a819-9f3b58ff9534"
   },
   "outputs": [],
   "source": [
    "\n",
    "# get 10 nearest neighbors for a car image\n",
    "for img_type in [classA, classB]:\n",
    "    img = dataset_val[img_type[0]][0].unsqueeze(0)\n",
    "    # query image index\n",
    "    img_idx = img_type[0]\n",
    "    print(\"query index {} query image class {}\".format(img_idx, dataset_val[img_type[0]][1]))\n",
    "    imshow(torchvision.utils.make_grid(img))\n",
    "    distances, indices = inference_model.get_nearest_neighbors(img, k=11)\n",
    "    nearest_imgs = []\n",
    "    for i in indices.cpu()[0]:\n",
    "        if i == img_idx:\n",
    "            continue\n",
    "        nearest_imgs.append(dataset_val[i][0] )\n",
    "    imshow(torchvision.utils.make_grid(nearest_imgs))"
   ]
  },
  {
   "cell_type": "markdown",
   "metadata": {},
   "source": [
    "## Analyze all nearest neighbors"
   ]
  },
  {
   "cell_type": "code",
   "execution_count": null,
   "metadata": {},
   "outputs": [],
   "source": [
    "query_option = ljinf.NN_query_image.ALL\n",
    "precision_at_k, recall_at_k, d_for_match, d_for_mismatch = ljinf.nearest_neighbors(inference_model, dataset_val, labels_to_indices, indices_to_labels, query_image=query_option)\n",
    "print(\"precisions@k {} recall@k {}\".format(precision_at_k, recall_at_k))\n",
    "# For sheet\n",
    "print(\"recall@1 recall@3 recall@5 recall@10 precision@10 {}\".format(recall_at_k[0], recall_at_k[2], recall_at_k[4], recall_at_k[9], precision_at_k[9]))\n",
    "print(\"{} {} {} {} {}\".format(recall_at_k[0], recall_at_k[2], recall_at_k[4], recall_at_k[9], precision_at_k[9]))"
   ]
  },
  {
   "cell_type": "code",
   "execution_count": null,
   "metadata": {},
   "outputs": [],
   "source": [
    "# first analysis will just be to determine average and sigma of distances\n",
    "def basic_metric(d_l, tag):\n",
    "    print(\"{} average distance {} sigma {} N {}\".format(tag, np.average(d_l), np.std(d_l), len(d_l)))\n",
    "\n",
    "def basic_metric_by_n(partition, tag):\n",
    "    list_of_k = sorted(partition.keys())\n",
    "    for k in list_of_k:\n",
    "        distances_at_k = [desc[0] for desc in partition[k]]\n",
    "        basic_metric(distances_at_k, \"{}@{}\".format(tag, k))\n",
    "\n",
    "def partition_by_n(dist):\n",
    "    partition = collections.defaultdict(list)\n",
    "    for desc in dist:\n",
    "        d = desc[0]\n",
    "        n = desc[1]\n",
    "        ci = desc[2]\n",
    "        ri = desc[3]\n",
    "        cl = desc[4]\n",
    "        rl = desc[5]\n",
    "        partition[n].append((d, ci, ri, cl, rl))\n",
    "    return partition\n",
    "        \n",
    "d_match_by_n = partition_by_n(d_for_match)\n",
    "basic_metric_by_n(d_match_by_n, \"matched classes\")\n",
    "d_miss_by_n = partition_by_n(d_for_mismatch)\n",
    "basic_metric_by_n(d_miss_by_n, \"missmatched classes\")\n",
    "\n",
    "# missmatched @n examples\n",
    "for top_i in range(1,4):\n",
    "    mismatched_indices = []\n",
    "    mismatched_classes = []\n",
    "    for desc in d_miss_by_n[top_i]:\n",
    "        mismatched_indices.append((desc[1], desc[2]))\n",
    "        mismatched_classes.append((desc[3], desc[4]))\n",
    "    print(\"top-n {} {} mismatched images: mismatched labels {}\".format(top_i, len(d_miss_by_n[top_i]), mismatched_classes))\n",
    "\n",
    "    for qi, ri in mismatched_indices:\n",
    "        query_image = dataset_val[qi][0]\n",
    "        match_image = dataset_val[ri][0]\n",
    "        imshow(torchvision.utils.make_grid([query_image, match_image]))   "
   ]
  },
  {
   "cell_type": "code",
   "execution_count": null,
   "metadata": {},
   "outputs": [],
   "source": [
    "print(len(dataset_val))"
   ]
  },
  {
   "cell_type": "markdown",
   "metadata": {
    "id": "jjZLaY5qi1uv"
   },
   "source": [
    "## Compare two images of the same class"
   ]
  },
  {
   "cell_type": "code",
   "execution_count": null,
   "metadata": {
    "colab": {
     "base_uri": "https://localhost:8080/",
     "height": 283
    },
    "id": "R42W1mwlXjBt",
    "outputId": "c4f6d641-33b5-4277-a0b5-1ef437fbff9c"
   },
   "outputs": [],
   "source": [
    "# compare two images of the same class\n",
    "(x, _), (y, _) = dataset_val[classA[0]], dataset_val[classA[1]]\n",
    "imshow(torchvision.utils.make_grid(torch.stack([x, y], dim=0)))\n",
    "decision = inference_model.is_match(x.unsqueeze(0), y.unsqueeze(0))\n",
    "print_decision(decision)"
   ]
  },
  {
   "cell_type": "markdown",
   "metadata": {
    "id": "ikC8rGD9i4lG"
   },
   "source": [
    "## Compare two images of different classes"
   ]
  },
  {
   "cell_type": "code",
   "execution_count": null,
   "metadata": {
    "colab": {
     "base_uri": "https://localhost:8080/",
     "height": 283
    },
    "id": "0UIj-AnSZVq8",
    "outputId": "8345371f-3eb6-4e27-c5dc-f831441ab4c9"
   },
   "outputs": [],
   "source": [
    "# compare two images of a different class\n",
    "(x, _), (y, _) = dataset_val[classA[0]], dataset_val[classB[0]]\n",
    "imshow(torchvision.utils.make_grid(torch.stack([x, y], dim=0)))\n",
    "decision = inference_model.is_match(x.unsqueeze(0), y.unsqueeze(0))\n",
    "print_decision(decision)"
   ]
  },
  {
   "cell_type": "markdown",
   "metadata": {
    "id": "AiHZXR6ki77J"
   },
   "source": [
    "## Compare multiple pairs of images"
   ]
  },
  {
   "cell_type": "code",
   "execution_count": null,
   "metadata": {
    "colab": {
     "base_uri": "https://localhost:8080/",
     "height": 579
    },
    "id": "tFXrTUigcVJn",
    "outputId": "9f5b4c52-1cee-448a-d519-e22e91a1746a"
   },
   "outputs": [],
   "source": [
    "# compare multiple pairs of images\n",
    "x = torch.zeros(20, 3, 300, 300)\n",
    "y = torch.zeros(20, 3, 300, 300)\n",
    "\n",
    "print(\"lA {} lB {}\".format(len(classA), len(classB)))\n",
    "for i in range(0, 10, 2):\n",
    "    x[i] = dataset_val[classA[i]][0]\n",
    "    x[i + 1] = dataset_val[classB[i]][0]\n",
    "    y[i] = dataset_val[classA[i + 10]][0]\n",
    "    y[i + 1] = dataset_val[classB[i + 10]][0]\n",
    "imshow(torchvision.utils.make_grid(torch.cat((x, y), dim=0), nrow=20), figsize=(30, 3))\n",
    "decision = inference_model.is_match(x, y)\n",
    "for d in decision:\n",
    "    print_decision(d)\n",
    "print(\"accuracy = {}\".format(np.sum(decision) / len(x)))"
   ]
  },
  {
   "cell_type": "markdown",
   "metadata": {
    "id": "VvqLS2cci9vT"
   },
   "source": [
    "## Compare all pairs within a batch"
   ]
  },
  {
   "cell_type": "code",
   "execution_count": null,
   "metadata": {
    "colab": {
     "base_uri": "https://localhost:8080/",
     "height": 283
    },
    "id": "xd1MnZDgdJEt",
    "outputId": "1a770a1e-9b4c-49c9-de85-a809abe209f4"
   },
   "outputs": [],
   "source": [
    "# compare all pairs within a batch\n",
    "match_matrix = inference_model.get_matches(x)\n",
    "assert match_matrix[0, 0]  # the 0th image should match with itself\n",
    "imshow(torchvision.utils.make_grid(torch.stack((x[3], x[4]), dim=0)))\n",
    "print_decision(match_matrix[3, 4])  # does the 3rd image match the 4th image?"
   ]
  },
  {
   "cell_type": "markdown",
   "metadata": {
    "id": "w0Uvn5DCjBLy"
   },
   "source": [
    "## Compare all pairs between queries and references"
   ]
  },
  {
   "cell_type": "code",
   "execution_count": null,
   "metadata": {
    "colab": {
     "base_uri": "https://localhost:8080/",
     "height": 283
    },
    "id": "mxHIlREegSYw",
    "outputId": "91fb41dd-f043-45c0-de34-8de5c2ce5b11"
   },
   "outputs": [],
   "source": [
    "# compare all pairs between queries and references\n",
    "match_matrix = inference_model.get_matches(x, y)\n",
    "imshow(torchvision.utils.make_grid(torch.stack((x[6], y[6]), dim=0)))\n",
    "print_decision(match_matrix[6, 6])  # does the 6th query match the 6th reference?"
   ]
  },
  {
   "cell_type": "markdown",
   "metadata": {
    "id": "djkNbKsrjEC5"
   },
   "source": [
    "# Get results in tuple form"
   ]
  },
  {
   "cell_type": "code",
   "execution_count": null,
   "metadata": {
    "colab": {
     "base_uri": "https://localhost:8080/",
     "height": 1000
    },
    "id": "9VvFa4kKhHM6",
    "outputId": "b382d686-cfc8-44c4-cb6d-5f733b1e651e"
   },
   "outputs": [],
   "source": [
    "sim_threshold = 0.95\n",
    "argstring = \"--similarity-threshold {} {}\".format(sim_threshold, base_argstring)\n",
    "args = parser.parse_args(argstring.split())\n",
    "inference_model, dataset_val, labels_to_indices = ljinf.build_inference_model(args)\n",
    "\n",
    "# get all matches in tuple form\n",
    "match_tuples = inference_model.get_matches(x, y, return_tuples=True)\n",
    "print(\"MATCHING IMAGE PAIRS\")\n",
    "for i, j in match_tuples:\n",
    "    print(i, j)\n",
    "    imshow(torchvision.utils.make_grid(torch.stack((x[i], y[j]), dim=0)))"
   ]
  },
  {
   "cell_type": "code",
   "execution_count": null,
   "metadata": {
    "id": "6hW4jA5obEYH"
   },
   "outputs": [],
   "source": []
  }
 ],
 "metadata": {
  "accelerator": "GPU",
  "colab": {
   "collapsed_sections": [],
   "name": "Inference",
   "provenance": []
  },
  "kernelspec": {
   "display_name": "Python 3 (ipykernel)",
   "language": "python",
   "name": "python3"
  },
  "language_info": {
   "codemirror_mode": {
    "name": "ipython",
    "version": 3
   },
   "file_extension": ".py",
   "mimetype": "text/x-python",
   "name": "python",
   "nbconvert_exporter": "python",
   "pygments_lexer": "ipython3",
   "version": "3.11.9"
  },
  "widgets": {
   "application/vnd.jupyter.widget-state+json": {
    "0536d6fcec724304ae99a1fec79c0abc": {
     "model_module": "@jupyter-widgets/base",
     "model_module_version": "1.2.0",
     "model_name": "LayoutModel",
     "state": {
      "_model_module": "@jupyter-widgets/base",
      "_model_module_version": "1.2.0",
      "_model_name": "LayoutModel",
      "_view_count": null,
      "_view_module": "@jupyter-widgets/base",
      "_view_module_version": "1.2.0",
      "_view_name": "LayoutView",
      "align_content": null,
      "align_items": null,
      "align_self": null,
      "border": null,
      "bottom": null,
      "display": null,
      "flex": null,
      "flex_flow": null,
      "grid_area": null,
      "grid_auto_columns": null,
      "grid_auto_flow": null,
      "grid_auto_rows": null,
      "grid_column": null,
      "grid_gap": null,
      "grid_row": null,
      "grid_template_areas": null,
      "grid_template_columns": null,
      "grid_template_rows": null,
      "height": null,
      "justify_content": null,
      "justify_items": null,
      "left": null,
      "margin": null,
      "max_height": null,
      "max_width": null,
      "min_height": null,
      "min_width": null,
      "object_fit": null,
      "object_position": null,
      "order": null,
      "overflow": null,
      "overflow_x": null,
      "overflow_y": null,
      "padding": null,
      "right": null,
      "top": null,
      "visibility": null,
      "width": null
     }
    },
    "1b34a41cf4464908bca20fd96a79d14c": {
     "model_module": "@jupyter-widgets/controls",
     "model_module_version": "1.5.0",
     "model_name": "HBoxModel",
     "state": {
      "_dom_classes": [],
      "_model_module": "@jupyter-widgets/controls",
      "_model_module_version": "1.5.0",
      "_model_name": "HBoxModel",
      "_view_count": null,
      "_view_module": "@jupyter-widgets/controls",
      "_view_module_version": "1.5.0",
      "_view_name": "HBoxView",
      "box_style": "",
      "children": [
       "IPY_MODEL_e265fe42b65f4bcf8094a11236d0712b",
       "IPY_MODEL_5614a7f3118b4a139e79a978787da3e4",
       "IPY_MODEL_496ffb9dc80c4341819fd92e38de2e90"
      ],
      "layout": "IPY_MODEL_de581210f87d44dcaa2635af2e18cdae"
     }
    },
    "496ffb9dc80c4341819fd92e38de2e90": {
     "model_module": "@jupyter-widgets/controls",
     "model_module_version": "1.5.0",
     "model_name": "HTMLModel",
     "state": {
      "_dom_classes": [],
      "_model_module": "@jupyter-widgets/controls",
      "_model_module_version": "1.5.0",
      "_model_name": "HTMLModel",
      "_view_count": null,
      "_view_module": "@jupyter-widgets/controls",
      "_view_module_version": "1.5.0",
      "_view_name": "HTMLView",
      "description": "",
      "description_tooltip": null,
      "layout": "IPY_MODEL_8b5a365ffd044a88afa91232cf9a9e9f",
      "placeholder": "​",
      "style": "IPY_MODEL_e8dbeacd35534160a5d9a73e1435e80f",
      "value": " 170499072/? [00:03&lt;00:00, 54828342.74it/s]"
     }
    },
    "5614a7f3118b4a139e79a978787da3e4": {
     "model_module": "@jupyter-widgets/controls",
     "model_module_version": "1.5.0",
     "model_name": "FloatProgressModel",
     "state": {
      "_dom_classes": [],
      "_model_module": "@jupyter-widgets/controls",
      "_model_module_version": "1.5.0",
      "_model_name": "FloatProgressModel",
      "_view_count": null,
      "_view_module": "@jupyter-widgets/controls",
      "_view_module_version": "1.5.0",
      "_view_name": "ProgressView",
      "bar_style": "success",
      "description": "",
      "description_tooltip": null,
      "layout": "IPY_MODEL_0536d6fcec724304ae99a1fec79c0abc",
      "max": 170498071,
      "min": 0,
      "orientation": "horizontal",
      "style": "IPY_MODEL_9f2e34c751d741a79746f146de2fa020",
      "value": 170498071
     }
    },
    "7a3f89c1cad445a88c488278d2a4cf7e": {
     "model_module": "@jupyter-widgets/controls",
     "model_module_version": "1.5.0",
     "model_name": "DescriptionStyleModel",
     "state": {
      "_model_module": "@jupyter-widgets/controls",
      "_model_module_version": "1.5.0",
      "_model_name": "DescriptionStyleModel",
      "_view_count": null,
      "_view_module": "@jupyter-widgets/base",
      "_view_module_version": "1.2.0",
      "_view_name": "StyleView",
      "description_width": ""
     }
    },
    "8b5a365ffd044a88afa91232cf9a9e9f": {
     "model_module": "@jupyter-widgets/base",
     "model_module_version": "1.2.0",
     "model_name": "LayoutModel",
     "state": {
      "_model_module": "@jupyter-widgets/base",
      "_model_module_version": "1.2.0",
      "_model_name": "LayoutModel",
      "_view_count": null,
      "_view_module": "@jupyter-widgets/base",
      "_view_module_version": "1.2.0",
      "_view_name": "LayoutView",
      "align_content": null,
      "align_items": null,
      "align_self": null,
      "border": null,
      "bottom": null,
      "display": null,
      "flex": null,
      "flex_flow": null,
      "grid_area": null,
      "grid_auto_columns": null,
      "grid_auto_flow": null,
      "grid_auto_rows": null,
      "grid_column": null,
      "grid_gap": null,
      "grid_row": null,
      "grid_template_areas": null,
      "grid_template_columns": null,
      "grid_template_rows": null,
      "height": null,
      "justify_content": null,
      "justify_items": null,
      "left": null,
      "margin": null,
      "max_height": null,
      "max_width": null,
      "min_height": null,
      "min_width": null,
      "object_fit": null,
      "object_position": null,
      "order": null,
      "overflow": null,
      "overflow_x": null,
      "overflow_y": null,
      "padding": null,
      "right": null,
      "top": null,
      "visibility": null,
      "width": null
     }
    },
    "9edaff6c2c654aae93310c7df1015ce1": {
     "model_module": "@jupyter-widgets/base",
     "model_module_version": "1.2.0",
     "model_name": "LayoutModel",
     "state": {
      "_model_module": "@jupyter-widgets/base",
      "_model_module_version": "1.2.0",
      "_model_name": "LayoutModel",
      "_view_count": null,
      "_view_module": "@jupyter-widgets/base",
      "_view_module_version": "1.2.0",
      "_view_name": "LayoutView",
      "align_content": null,
      "align_items": null,
      "align_self": null,
      "border": null,
      "bottom": null,
      "display": null,
      "flex": null,
      "flex_flow": null,
      "grid_area": null,
      "grid_auto_columns": null,
      "grid_auto_flow": null,
      "grid_auto_rows": null,
      "grid_column": null,
      "grid_gap": null,
      "grid_row": null,
      "grid_template_areas": null,
      "grid_template_columns": null,
      "grid_template_rows": null,
      "height": null,
      "justify_content": null,
      "justify_items": null,
      "left": null,
      "margin": null,
      "max_height": null,
      "max_width": null,
      "min_height": null,
      "min_width": null,
      "object_fit": null,
      "object_position": null,
      "order": null,
      "overflow": null,
      "overflow_x": null,
      "overflow_y": null,
      "padding": null,
      "right": null,
      "top": null,
      "visibility": null,
      "width": null
     }
    },
    "9f2e34c751d741a79746f146de2fa020": {
     "model_module": "@jupyter-widgets/controls",
     "model_module_version": "1.5.0",
     "model_name": "ProgressStyleModel",
     "state": {
      "_model_module": "@jupyter-widgets/controls",
      "_model_module_version": "1.5.0",
      "_model_name": "ProgressStyleModel",
      "_view_count": null,
      "_view_module": "@jupyter-widgets/base",
      "_view_module_version": "1.2.0",
      "_view_name": "StyleView",
      "bar_color": null,
      "description_width": ""
     }
    },
    "de581210f87d44dcaa2635af2e18cdae": {
     "model_module": "@jupyter-widgets/base",
     "model_module_version": "1.2.0",
     "model_name": "LayoutModel",
     "state": {
      "_model_module": "@jupyter-widgets/base",
      "_model_module_version": "1.2.0",
      "_model_name": "LayoutModel",
      "_view_count": null,
      "_view_module": "@jupyter-widgets/base",
      "_view_module_version": "1.2.0",
      "_view_name": "LayoutView",
      "align_content": null,
      "align_items": null,
      "align_self": null,
      "border": null,
      "bottom": null,
      "display": null,
      "flex": null,
      "flex_flow": null,
      "grid_area": null,
      "grid_auto_columns": null,
      "grid_auto_flow": null,
      "grid_auto_rows": null,
      "grid_column": null,
      "grid_gap": null,
      "grid_row": null,
      "grid_template_areas": null,
      "grid_template_columns": null,
      "grid_template_rows": null,
      "height": null,
      "justify_content": null,
      "justify_items": null,
      "left": null,
      "margin": null,
      "max_height": null,
      "max_width": null,
      "min_height": null,
      "min_width": null,
      "object_fit": null,
      "object_position": null,
      "order": null,
      "overflow": null,
      "overflow_x": null,
      "overflow_y": null,
      "padding": null,
      "right": null,
      "top": null,
      "visibility": null,
      "width": null
     }
    },
    "e265fe42b65f4bcf8094a11236d0712b": {
     "model_module": "@jupyter-widgets/controls",
     "model_module_version": "1.5.0",
     "model_name": "HTMLModel",
     "state": {
      "_dom_classes": [],
      "_model_module": "@jupyter-widgets/controls",
      "_model_module_version": "1.5.0",
      "_model_name": "HTMLModel",
      "_view_count": null,
      "_view_module": "@jupyter-widgets/controls",
      "_view_module_version": "1.5.0",
      "_view_name": "HTMLView",
      "description": "",
      "description_tooltip": null,
      "layout": "IPY_MODEL_9edaff6c2c654aae93310c7df1015ce1",
      "placeholder": "​",
      "style": "IPY_MODEL_7a3f89c1cad445a88c488278d2a4cf7e",
      "value": ""
     }
    },
    "e8dbeacd35534160a5d9a73e1435e80f": {
     "model_module": "@jupyter-widgets/controls",
     "model_module_version": "1.5.0",
     "model_name": "DescriptionStyleModel",
     "state": {
      "_model_module": "@jupyter-widgets/controls",
      "_model_module_version": "1.5.0",
      "_model_name": "DescriptionStyleModel",
      "_view_count": null,
      "_view_module": "@jupyter-widgets/base",
      "_view_module_version": "1.2.0",
      "_view_name": "StyleView",
      "description_width": ""
     }
    }
   }
  }
 },
 "nbformat": 4,
 "nbformat_minor": 4
}
